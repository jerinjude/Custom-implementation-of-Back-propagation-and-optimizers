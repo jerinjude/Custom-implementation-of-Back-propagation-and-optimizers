{
 "cells": [
  {
   "cell_type": "markdown",
   "metadata": {
    "id": "y871RZtRhCEH"
   },
   "source": [
    "# Backpropagation custom implementation"
   ]
  },
  {
   "cell_type": "markdown",
   "metadata": {
    "id": "0huUQ0byiI0I"
   },
   "source": [
    "## Loading data "
   ]
  },
  {
   "cell_type": "code",
   "execution_count": 2,
   "metadata": {
    "colab": {
     "base_uri": "https://localhost:8080/"
    },
    "id": "1hSje5CBgcUb",
    "outputId": "12681f80-4c91-4231-cf36-9fab6d23966b"
   },
   "outputs": [
    {
     "name": "stdout",
     "output_type": "stream",
     "text": [
      "(506, 6)\n",
      "(506, 5) (506,)\n"
     ]
    }
   ],
   "source": [
    "import pickle\n",
    "import numpy as np\n",
    "from tqdm import tqdm\n",
    "import matplotlib.pyplot as plt\n",
    "\n",
    "with open('data.pkl', 'rb') as f:\n",
    "    data = pickle.load(f)\n",
    "print(data.shape)\n",
    "X = data[:, :5]\n",
    "y = data[:, -1]\n",
    "print(X.shape, y.shape)"
   ]
  },
  {
   "cell_type": "markdown",
   "metadata": {
    "id": "5JL-0soQistC"
   },
   "source": [
    "# Computational graph"
   ]
  },
  {
   "cell_type": "markdown",
   "metadata": {
    "id": "nREnTTJ3i0Vd"
   },
   "source": [
    "<img src='https://i.imgur.com/seSGbNS.png'>"
   ]
  },
  {
   "cell_type": "markdown",
   "metadata": {
    "id": "D54eDEv6jkO4"
   },
   "source": [
    "## Implementing Forward propagation, Backpropagation and Gradient checking"
   ]
  },
  {
   "cell_type": "markdown",
   "metadata": {
    "id": "RwEcPWLffTKI"
   },
   "source": [
    "## Forward propagation "
   ]
  },
  {
   "cell_type": "code",
   "execution_count": 4,
   "metadata": {
    "id": "ADCovl2FfTKJ"
   },
   "outputs": [],
   "source": [
    "def sigmoid(z):\n",
    "  import math \n",
    "  '''In this function, we will compute the sigmoid(z)'''\n",
    "  sig=1/(1+math.exp(-z))\n",
    "  return sig"
   ]
  },
  {
   "cell_type": "code",
   "execution_count": 6,
   "metadata": {
    "id": "KD3piNkifTKJ"
   },
   "outputs": [],
   "source": [
    "def forward_propagation(x, y, w):\n",
    "        '''In this function, we will compute the forward propagation '''\n",
    "        # X: input data point,5-d data points\n",
    "        # y: output varible\n",
    "        # W: weight array, its of length 9, W[0] corresponds to w1 in graph, W[1] corresponds to w2 in graph,..., W[8] corresponds to w9 in graph.  \n",
    "        # you have to return the following variables\n",
    "        # exp= part1 (compute the forward propagation until exp and then store the values in exp)\n",
    "        # tanh =part2(compute the forward propagation until tanh and then store the values in tanh)\n",
    "        # sig = part3(compute the forward propagation until sigmoid and then store the values in sig)\n",
    "        \n",
    "        val_1= (w[0]*x[0]+w[1]*x[1]) * (w[0]*x[0]+w[1]*x[1]) + w[5]\n",
    "        part_1 = np.exp(val_1)\n",
    "\n",
    "        part_2= np.tanh(part_1+w[6])\n",
    "        \n",
    "        part_3 = sigmoid(np.sin(w[2]*x[2])*(w[3]*x[3]+w[4]*x[4]) + w[7])\n",
    "        Y=part_2+(part_3*w[8])\n",
    "        L=(y-Y)**2\n",
    "        d=-2*(y-Y)\n",
    "        \n",
    "        forward_dict={}\n",
    "        forward_dict['exp']= part_1\n",
    "        forward_dict['sigmoid'] = part_3\n",
    "        forward_dict['tanh'] = part_2\n",
    "        forward_dict['loss'] = L\n",
    "        forward_dict['dy_pred'] = d\n",
    "        \n",
    "        return forward_dict"
   ]
  },
  {
   "cell_type": "markdown",
   "metadata": {
    "id": "4YVYD18xfTKL"
   },
   "source": [
    "## Backward propagation"
   ]
  },
  {
   "cell_type": "code",
   "execution_count": 9,
   "metadata": {
    "id": "Ld1PMQtffTKL"
   },
   "outputs": [],
   "source": [
    "def backward_propagation(x,y,w,forward_dict):\n",
    "    part_1=forward_dict['exp']\n",
    "    part_3=forward_dict['sigmoid'] \n",
    "    part_2=forward_dict['tanh']\n",
    "    L=forward_dict['loss'] \n",
    "    d=forward_dict['dy_pred'] \n",
    "    '''In this function, we will compute the backward propagation '''\n",
    "    # forward_dict: the outputs of the forward_propagation() function\n",
    "    # write code to compute the gradients of each weight [w1,w2,w3,...,w9]\n",
    "    # Hint: you can use dict type to store the required variables \n",
    "    dw1 = d*(1-(part_2)**2)*part_1*2*(w[0]*x[0]+w[1]*x[1])*x[0] #in dw1 compute derivative of L w.r.to w1\n",
    "    dw2 = d*(1-(part_2)**2)*part_1*(w[0]*x[0]+w[1]*x[1])*x[1]*2 #in dw2 compute derivative of L w.r.to w2\n",
    "    dw3 = d*part_3*(1-part_3)*w[8]*(w[3]*x[3]+w[4]*x[4])*np.cos(w[2]*x[2])*x[2]# in dw3 compute derivative of L w.r.to w3\n",
    "    dw4 = d*part_3*(1-part_3)*w[8]*np.sin(w[2]*x[2])*x[3] # in dw4 compute derivative of L w.r.to w4\n",
    "    dw5 = d*part_3*(1-part_3)*w[8]*np.sin(w[2]*x[2])*x[4] # in dw5 compute derivative of L w.r.to w5\n",
    "    dw6 = d*(1-(part_2)**2)*part_1 # in dw6 compute derivative of L w.r.to w6\n",
    "    dw7 = d*(1-(part_2)**2) # in dw7 compute derivative of L w.r.to w7\n",
    "    dw8 = d*part_3*(1-part_3)*w[8] # in dw8 compute derivative of L w.r.to w8\n",
    "    dw9 = d*part_3# in dw9 compute derivative of L w.r.to w9\n",
    "\n",
    "    backward_dict={}\n",
    "    backward_dict['dw1']= dw1\n",
    "    backward_dict['dw2']= dw2\n",
    "    backward_dict['dw3']= dw3\n",
    "    backward_dict['dw4']= dw4\n",
    "    backward_dict['dw5']= dw5\n",
    "    backward_dict['dw6']= dw6\n",
    "    backward_dict['dw7']= dw7\n",
    "    backward_dict['dw8']= dw8\n",
    "    backward_dict['dw9']= dw9\n",
    "    #storing the variables dw1,dw2 etc. in a dict as backward_dict['dw1']= dw1,backward_dict['dw2']= dw2...\n",
    "    return backward_dict"
   ]
  },
  {
   "cell_type": "markdown",
   "metadata": {
    "id": "f1BFQQaCermK"
   },
   "source": [
    "## Implementing Gradient checking \n",
    " "
   ]
  },
  {
   "cell_type": "code",
   "execution_count": 11,
   "metadata": {
    "id": "XBoJRqAwfTKO"
   },
   "outputs": [],
   "source": [
    "w=np.random.rand(9)\n",
    "def gradient_checking(x,y,w,eps):\n",
    "    # compute the dict value using forward_propagation()\n",
    "    # compute the actual gradients of W using backword_propagation()\n",
    "    forward_dict=forward_propagation(x,y,w)\n",
    "    backward_dict=backward_propagation(x,y,w,forward_dict)\n",
    "    \n",
    "    #we are storing the original gradients for the given datapoints in a list\n",
    "    \n",
    "    original_gradients_list=list(backward_dict.values())\n",
    "    \n",
    "    approx_gradients_list=[]\n",
    "    for i in range(9):\n",
    "      W=w\n",
    "      n=W[i]+0.00001\n",
    "      w[i]=n\n",
    "      l1=forward_propagation(x,y,W)['loss']\n",
    "      W=w\n",
    "      o=W[i]-0.0001\n",
    "      W[i]=o\n",
    "      l2=forward_propagation(x,y,W)['loss']\n",
    "      ad=(l1-l2)/0.00002\n",
    "      approx_gradients_list.append(ad)\n",
    "    #performing gradient check operation\n",
    "    original_gradients_list=np.array(original_gradients_list)\n",
    "    approx_gradients_list=np.array(approx_gradients_list)\n",
    "    gradient_check_value =(original_gradients_list-approx_gradients_list)/(original_gradients_list+approx_gradients_list)\n",
    "    \n",
    "    return gradient_check_value"
   ]
  },
  {
   "cell_type": "markdown",
   "metadata": {
    "id": "0ufbFBFfhgL0"
   },
   "source": [
    "## Optimizer"
   ]
  },
  {
   "cell_type": "markdown",
   "metadata": {
    "id": "cv_hZFWalS2z"
   },
   "source": [
    "### Algorithm with Vanilla update of weights"
   ]
  },
  {
   "cell_type": "code",
   "execution_count": 14,
   "metadata": {
    "id": "KlVuEsRjQoW5"
   },
   "outputs": [],
   "source": [
    "W=np.random.randn(9)\n",
    "loss1=[]\n",
    "for i in range(200):\n",
    "  for j in range(len(X)):\n",
    "    fwd=forward_propagation(X[j],y[j],W)\n",
    "    bwd=list(backward_propagation(X[j],y[j],W,fwd).values())\n",
    "    for i in range(9):\n",
    "      W[i]=W[i]-0.01*bwd[i]\n",
    "  l=forward_propagation(X[j],y[j],W)['loss']\n",
    "  loss1.append(l)"
   ]
  },
  {
   "cell_type": "code",
   "execution_count": 15,
   "metadata": {
    "id": "fvC8i3e7BVUW"
   },
   "outputs": [],
   "source": [
    "epo=list(np.arange(1,201))"
   ]
  },
  {
   "cell_type": "code",
   "execution_count": 41,
   "metadata": {
    "colab": {
     "base_uri": "https://localhost:8080/",
     "height": 351
    },
    "id": "eq7_PmPaBQv-",
    "outputId": "35080327-0b70-49ac-c9b2-c6e3b415afe3"
   },
   "outputs": [
    {
     "name": "stderr",
     "output_type": "stream",
     "text": [
      "/usr/local/lib/python3.7/dist-packages/seaborn/_decorators.py:43: FutureWarning: Pass the following variables as keyword args: x, y. From version 0.12, the only valid positional argument will be `data`, and passing other arguments without an explicit keyword will result in an error or misinterpretation.\n",
      "  FutureWarning\n"
     ]
    },
    {
     "data": {
      "text/plain": [
       "Text(0, 0.5, 'loss')"
      ]
     },
     "execution_count": 41,
     "metadata": {},
     "output_type": "execute_result"
    },
    {
     "data": {
      "image/png": "[encoded data removed]",
      "text/plain": [
       "<Figure size 432x288 with 1 Axes>"
      ]
     },
     "metadata": {
      "needs_background": "light"
     },
     "output_type": "display_data"
    }
   ],
   "source": [
    "import seaborn as sns\n",
    "p=sns.lineplot(epo,loss1,x=\"epoch\",y=\"loss\")\n",
    "p.set_xlabel(\"epoch\", fontsize = 10)\n",
    "p.set_ylabel(\"loss\", fontsize = 10)"
   ]
  },
  {
   "cell_type": "markdown",
   "metadata": {
    "id": "V4RWWrZ7lWap"
   },
   "source": [
    "### Algorithm with Momentum update of weights"
   ]
  },
  {
   "cell_type": "code",
   "execution_count": 27,
   "metadata": {
    "id": "nNRJ2z5hNc5U"
   },
   "outputs": [],
   "source": [
    "W=np.random.randn(9)\n",
    "loss2=[]\n",
    "v=[0,0,0,0,0,0,0,0,0]\n",
    "for i in range(200):\n",
    "  for j in range(len(X)):\n",
    "    fwd=forward_propagation(X[j],y[j],W)\n",
    "    bwd=list(backward_propagation(X[j],y[j],W,fwd).values())    \n",
    "    for i in range(9):\n",
    "      v[i]=0.9*v[i]+0.1*bwd[i]\n",
    "      W[i]=W[i]-v[i]\n",
    "  l=forward_propagation(X[j],y[j],W)['loss']  \n",
    "  loss2.append(l)"
   ]
  },
  {
   "cell_type": "code",
   "execution_count": 40,
   "metadata": {
    "colab": {
     "base_uri": "https://localhost:8080/",
     "height": 351
    },
    "id": "abmTP-xFSpSB",
    "outputId": "bd8c72e7-a56e-46cc-f8a4-34881b16adcd"
   },
   "outputs": [
    {
     "name": "stderr",
     "output_type": "stream",
     "text": [
      "/usr/local/lib/python3.7/dist-packages/seaborn/_decorators.py:43: FutureWarning: Pass the following variables as keyword args: x, y. From version 0.12, the only valid positional argument will be `data`, and passing other arguments without an explicit keyword will result in an error or misinterpretation.\n",
      "  FutureWarning\n"
     ]
    },
    {
     "data": {
      "text/plain": [
       "Text(0, 0.5, 'loss')"
      ]
     },
     "execution_count": 40,
     "metadata": {},
     "output_type": "execute_result"
    },
    {
     "data": {
      "image/png": "[encoded data removed]",
      "text/plain": [
       "<Figure size 432x288 with 1 Axes>"
      ]
     },
     "metadata": {
      "needs_background": "light"
     },
     "output_type": "display_data"
    }
   ],
   "source": [
    "import seaborn as sns\n",
    "p=sns.lineplot(epo,loss2,x=\"epoch\",y=\"loss\")\n",
    "p.set_xlabel(\"epoch\", fontsize = 10)\n",
    "p.set_ylabel(\"loss\", fontsize = 10)"
   ]
  },
  {
   "cell_type": "markdown",
   "metadata": {
    "id": "Agtmr_lZQoW6"
   },
   "source": [
    "### Algorithm with Adam update of weights"
   ]
  },
  {
   "cell_type": "code",
   "execution_count": 35,
   "metadata": {
    "id": "0YffVQ2LQoW6"
   },
   "outputs": [],
   "source": [
    "W=np.random.randn(9)\n",
    "loss3=[]\n",
    "v=[0,0,0,0,0,0,0,0,0]\n",
    "m=[0,0,0,0,0,0,0,0,0]\n",
    "for k in range(200):\n",
    "  for j in range(len(X)):\n",
    "    fwd=forward_propagation(X[j],y[j],W)\n",
    "    bwd=list(backward_propagation(X[j],y[j],W,fwd).values())    \n",
    "    for i in range(9):\n",
    "      m[i]=0.9*m[i]+0.1*bwd[i]\n",
    "      m[i]=0.9*m[i]+0.1*(bwd[i])**2\n",
    "      m[i]=m[i]#/(1-0.9)**(k+j+1))\n",
    "      v[i]=v[i]#/(1-0.99)**(k+j+1))\n",
    "      W[i]=W[i]-(0.1*m[i])/((v[i]+0.1)**(0.5))\n",
    "  l=forward_propagation(X[j],y[j],W)['loss']  \n",
    "  loss3.append(l)"
   ]
  },
  {
   "cell_type": "code",
   "execution_count": 39,
   "metadata": {
    "colab": {
     "base_uri": "https://localhost:8080/",
     "height": 351
    },
    "id": "NKjwci_Bn655",
    "outputId": "d8215685-17af-4da1-9fac-459d862a029d"
   },
   "outputs": [
    {
     "name": "stderr",
     "output_type": "stream",
     "text": [
      "/usr/local/lib/python3.7/dist-packages/seaborn/_decorators.py:43: FutureWarning: Pass the following variables as keyword args: x, y. From version 0.12, the only valid positional argument will be `data`, and passing other arguments without an explicit keyword will result in an error or misinterpretation.\n",
      "  FutureWarning\n"
     ]
    },
    {
     "data": {
      "text/plain": [
       "Text(0, 0.5, 'loss')"
      ]
     },
     "execution_count": 39,
     "metadata": {},
     "output_type": "execute_result"
    },
    {
     "data": {
      "image/png": "[encoded data removed]",
      "text/plain": [
       "<Figure size 432x288 with 1 Axes>"
      ]
     },
     "metadata": {
      "needs_background": "light"
     },
     "output_type": "display_data"
    }
   ],
   "source": [
    "import seaborn as sns\n",
    "p=sns.lineplot(epo,loss3,x=\"epoch\",y=\"loss\")\n",
    "p.set_xlabel(\"epoch\", fontsize = 10)\n",
    "p.set_ylabel(\"loss\", fontsize = 10)"
   ]
  },
  {
   "cell_type": "markdown",
   "metadata": {
    "id": "7627cy8YlnYO"
   },
   "source": [
    "Comparision plot between epochs and loss with different optimizers. "
   ]
  },
  {
   "cell_type": "code",
   "execution_count": 44,
   "metadata": {
    "colab": {
     "base_uri": "https://localhost:8080/",
     "height": 279
    },
    "id": "scleSfIXl_bC",
    "outputId": "14f9c834-7aa7-4047-b7aa-b323ed3d3417"
   },
   "outputs": [
    {
     "data": {
      "image/png": "[encoded data removed]",
      "text/plain": [
       "<Figure size 432x288 with 1 Axes>"
      ]
     },
     "metadata": {
      "needs_background": "light"
     },
     "output_type": "display_data"
    }
   ],
   "source": [
    "#plot the graph between loss vs epochs for all 3 optimizers.\n",
    "import matplotlib.pyplot as plt\n",
    "plt.plot(epo,loss1,label = \"vanilla\")\n",
    "plt.plot(epo,loss2,label = \"momentum\")\n",
    "plt.plot(epo,loss3,label = \"adam\")\n",
    "plt.xlabel(\"epoch\", fontsize = 10)\n",
    "plt.ylabel(\"loss\", fontsize = 10)\n",
    "plt.legend()\n",
    "plt.show()\n"
   ]
  }
 ],
 "metadata": {
  "colab": {
   "collapsed_sections": [],
   "name": "Copy of Backpropagation_Assignment.ipynb",
   "provenance": []
  },
  "kernelspec": {
   "display_name": "Python 3 (ipykernel)",
   "language": "python",
   "name": "python3"
  },
  "language_info": {
   "codemirror_mode": {
    "name": "ipython",
    "version": 3
   },
   "file_extension": ".py",
   "mimetype": "text/x-python",
   "name": "python",
   "nbconvert_exporter": "python",
   "pygments_lexer": "ipython3",
   "version": "3.9.7"
  }
 },
 "nbformat": 4,
 "nbformat_minor": 1
}
